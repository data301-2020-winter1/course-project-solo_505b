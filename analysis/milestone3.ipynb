{
 "cells": [
  {
   "cell_type": "markdown",
   "metadata": {},
   "source": [
    "# Predict Heart Disease Using Logistic Regression and Local Lp norm\n",
    "For the purpose of this project, I used [**Farmingham Dataset**](https://www.kaggle.com/amanajmera1/framingham-heart-study-dataset). Framingham Heart study dataset includes several  risk factors.There are both demographic, behavioral and medical risk factors. I excluded variable *education* from the original dataset and the rest is as follows:\n",
    "\n",
    "Demographic:\n",
    "- Sex: male or female (Nominal)\n",
    "- Age: Age of the patient;(Continuous - Although the recorded ages have been truncated to whole numbers, the concept of age is continuous)\n",
    "\n",
    "Behavioral\n",
    "- Current Smoker: whether the patient is a current smoker (Nominal)\n",
    "- Cigs Per Day: the number of cigarettes that the person smoked on average in one day. (can be considered continuous as one can have any number of cigarettes, even half a cigarette.)\n",
    "\n",
    "Medical(history)\n",
    "- BP Meds: whether the patient was on blood pressure medication (Nominal)\n",
    "- Prevalent Stroke: whether the patient had previously had a stroke (Nominal)\n",
    "- Prevalent Hyp: whether the patient was hypertensive (Nominal)\n",
    "- Diabetes: whether the patient had diabetes (Nominal)\n",
    "Medical(current)\n",
    "- Tot Chol: total cholesterol level (Continuous)\n",
    "- Sys BP: systolic blood pressure (Continuous)\n",
    "- Dia BP: diastolic blood pressure (Continuous)\n",
    "- BMI: Body Mass Index (Continuous)\n",
    "- Heart Rate: heart rate (Continuous - In medical research, variables such as heart rate though in fact discrete, yet are considered continuous because of large number of possible values.)\n",
    "- Glucose: glucose level (Continuous)\n",
    "Predict variable (desired target)\n",
    "- 10-year risk of coronary heart disease CHD (binary: “1”, means “Yes”, “0” means “No”)"
   ]
  },
  {
   "cell_type": "code",
   "execution_count": null,
   "metadata": {},
   "outputs": [],
   "source": []
  }
 ],
 "metadata": {
  "kernelspec": {
   "display_name": "Python 3",
   "language": "python",
   "name": "python3"
  },
  "language_info": {
   "codemirror_mode": {
    "name": "ipython",
    "version": 3
   },
   "file_extension": ".py",
   "mimetype": "text/x-python",
   "name": "python",
   "nbconvert_exporter": "python",
   "pygments_lexer": "ipython3",
   "version": "3.8.3"
  }
 },
 "nbformat": 4,
 "nbformat_minor": 4
}
